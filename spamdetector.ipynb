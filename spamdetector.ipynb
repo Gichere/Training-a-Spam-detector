{
  "nbformat": 4,
  "nbformat_minor": 0,
  "metadata": {
    "colab": {
      "name": "spamdetector.ipynb",
      "provenance": [],
      "authorship_tag": "ABX9TyOSZKcZojnLBDj7uic7zli5",
      "include_colab_link": true
    },
    "kernelspec": {
      "name": "python3",
      "display_name": "Python 3"
    }
  },
  "cells": [
    {
      "cell_type": "markdown",
      "metadata": {
        "id": "view-in-github",
        "colab_type": "text"
      },
      "source": [
        "<a href=\"https://colab.research.google.com/github/Gichere/Training-a-Spam-detector/blob/master/spamdetector.ipynb\" target=\"_parent\"><img src=\"https://colab.research.google.com/assets/colab-badge.svg\" alt=\"Open In Colab\"/></a>"
      ]
    },
    {
      "cell_type": "code",
      "metadata": {
        "id": "J39Ysf8cVEJl",
        "colab_type": "code",
        "colab": {}
      },
      "source": [
        "import pandas as pd"
      ],
      "execution_count": 0,
      "outputs": []
    },
    {
      "cell_type": "code",
      "metadata": {
        "id": "Kfnt0vH2Wl5E",
        "colab_type": "code",
        "colab": {}
      },
      "source": [
        "csv_url='https://raw.githubusercontent.com/PacktWorkshops/The-Data-Science-Workshop/master/Chapter01/Dataset/dataset_44_spambase.csv'"
      ],
      "execution_count": 0,
      "outputs": []
    },
    {
      "cell_type": "code",
      "metadata": {
        "id": "VfbIca2-WzXh",
        "colab_type": "code",
        "colab": {}
      },
      "source": [
        "csv_df=pd.read_csv(csv_url)"
      ],
      "execution_count": 0,
      "outputs": []
    },
    {
      "cell_type": "code",
      "metadata": {
        "id": "hCsaHPXhVsvc",
        "colab_type": "code",
        "colab": {
          "base_uri": "https://localhost:8080/",
          "height": 274
        },
        "outputId": "4643d9d8-ddba-411b-cfe0-511b7f265545"
      },
      "source": [
        "print(csv_df)"
      ],
      "execution_count": 6,
      "outputs": [
        {
          "output_type": "stream",
          "text": [
            "      word_freq_make  word_freq_address  ...  capital_run_length_total  class\n",
            "0               0.00               0.64  ...                       278      1\n",
            "1               0.21               0.28  ...                      1028      1\n",
            "2               0.06               0.00  ...                      2259      1\n",
            "3               0.00               0.00  ...                       191      1\n",
            "4               0.00               0.00  ...                       191      1\n",
            "...              ...                ...  ...                       ...    ...\n",
            "4596            0.31               0.00  ...                        88      0\n",
            "4597            0.00               0.00  ...                        14      0\n",
            "4598            0.30               0.00  ...                       118      0\n",
            "4599            0.96               0.00  ...                        78      0\n",
            "4600            0.00               0.00  ...                        40      0\n",
            "\n",
            "[4601 rows x 58 columns]\n"
          ],
          "name": "stdout"
        }
      ]
    },
    {
      "cell_type": "code",
      "metadata": {
        "id": "xLOmAdghZvwI",
        "colab_type": "code",
        "colab": {}
      },
      "source": [
        "target = csv_df.pop('class')"
      ],
      "execution_count": 0,
      "outputs": []
    },
    {
      "cell_type": "code",
      "metadata": {
        "id": "oZa9OpWbafl8",
        "colab_type": "code",
        "colab": {
          "base_uri": "https://localhost:8080/",
          "height": 237
        },
        "outputId": "c5c33fb7-68f6-4a6f-84a4-1771b370ad20"
      },
      "source": [
        "print(target)"
      ],
      "execution_count": 9,
      "outputs": [
        {
          "output_type": "stream",
          "text": [
            "0       1\n",
            "1       1\n",
            "2       1\n",
            "3       1\n",
            "4       1\n",
            "       ..\n",
            "4596    0\n",
            "4597    0\n",
            "4598    0\n",
            "4599    0\n",
            "4600    0\n",
            "Name: class, Length: 4601, dtype: int64\n"
          ],
          "name": "stdout"
        }
      ]
    },
    {
      "cell_type": "code",
      "metadata": {
        "id": "vEJ0cu5nbApb",
        "colab_type": "code",
        "colab": {}
      },
      "source": [
        "from sklearn.ensemble import RandomForestClassifier"
      ],
      "execution_count": 0,
      "outputs": []
    },
    {
      "cell_type": "code",
      "metadata": {
        "id": "lOrz_KGhbWkZ",
        "colab_type": "code",
        "colab": {}
      },
      "source": [
        "seed=168"
      ],
      "execution_count": 0,
      "outputs": []
    },
    {
      "cell_type": "code",
      "metadata": {
        "id": "G3LjGCxsaqO_",
        "colab_type": "code",
        "colab": {}
      },
      "source": [
        "rf_model=RandomForestClassifier(random_state=seed)"
      ],
      "execution_count": 0,
      "outputs": []
    },
    {
      "cell_type": "code",
      "metadata": {
        "id": "TL0Rsj-Ebxai",
        "colab_type": "code",
        "colab": {
          "base_uri": "https://localhost:8080/",
          "height": 164
        },
        "outputId": "1ebe764c-1313-4c41-d39a-48c8b0d587e8"
      },
      "source": [
        "rf_model.fit(csv_df, target)"
      ],
      "execution_count": 18,
      "outputs": [
        {
          "output_type": "execute_result",
          "data": {
            "text/plain": [
              "RandomForestClassifier(bootstrap=True, ccp_alpha=0.0, class_weight=None,\n",
              "                       criterion='gini', max_depth=None, max_features='auto',\n",
              "                       max_leaf_nodes=None, max_samples=None,\n",
              "                       min_impurity_decrease=0.0, min_impurity_split=None,\n",
              "                       min_samples_leaf=1, min_samples_split=2,\n",
              "                       min_weight_fraction_leaf=0.0, n_estimators=100,\n",
              "                       n_jobs=None, oob_score=False, random_state=168,\n",
              "                       verbose=0, warm_start=False)"
            ]
          },
          "metadata": {
            "tags": []
          },
          "execution_count": 18
        }
      ]
    },
    {
      "cell_type": "code",
      "metadata": {
        "id": "BY0nWyxfcxOi",
        "colab_type": "code",
        "colab": {}
      },
      "source": [
        "preds=rf_model.predict(csv_df)"
      ],
      "execution_count": 0,
      "outputs": []
    },
    {
      "cell_type": "code",
      "metadata": {
        "id": "hzJ88iisc7LL",
        "colab_type": "code",
        "colab": {
          "base_uri": "https://localhost:8080/",
          "height": 35
        },
        "outputId": "fb8729e7-129a-46c4-d2c8-555b2c778e3c"
      },
      "source": [
        "print(preds)"
      ],
      "execution_count": 20,
      "outputs": [
        {
          "output_type": "stream",
          "text": [
            "[1 1 1 ... 0 0 0]\n"
          ],
          "name": "stdout"
        }
      ]
    },
    {
      "cell_type": "code",
      "metadata": {
        "id": "sQO-vnuNdlV8",
        "colab_type": "code",
        "colab": {}
      },
      "source": [
        "from sklearn.metrics import accuracy_score"
      ],
      "execution_count": 0,
      "outputs": []
    },
    {
      "cell_type": "code",
      "metadata": {
        "id": "AFRsxgzhdsbQ",
        "colab_type": "code",
        "colab": {}
      },
      "source": [
        "acc_score=accuracy_score(target,preds)"
      ],
      "execution_count": 0,
      "outputs": []
    },
    {
      "cell_type": "code",
      "metadata": {
        "id": "SPeEpX6Nd5Mg",
        "colab_type": "code",
        "colab": {
          "base_uri": "https://localhost:8080/",
          "height": 35
        },
        "outputId": "ce66f9f4-7ba3-4cb0-c45d-03aac36bd160"
      },
      "source": [
        "print(acc_score)"
      ],
      "execution_count": 23,
      "outputs": [
        {
          "output_type": "stream",
          "text": [
            "0.9993479678330798\n"
          ],
          "name": "stdout"
        }
      ]
    }
  ]
}